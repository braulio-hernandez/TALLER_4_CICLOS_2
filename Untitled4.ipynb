{
  "nbformat": 4,
  "nbformat_minor": 0,
  "metadata": {
    "colab": {
      "provenance": [],
      "authorship_tag": "ABX9TyPaQDOF0R2MMZJ9amYtscFc",
      "include_colab_link": true
    },
    "kernelspec": {
      "name": "python3",
      "display_name": "Python 3"
    },
    "language_info": {
      "name": "python"
    }
  },
  "cells": [
    {
      "cell_type": "markdown",
      "metadata": {
        "id": "view-in-github",
        "colab_type": "text"
      },
      "source": [
        "<a href=\"https://colab.research.google.com/github/braulio-hernandez/TALLER_4_CICLOS_2/blob/main/Untitled4.ipynb\" target=\"_parent\"><img src=\"https://colab.research.google.com/assets/colab-badge.svg\" alt=\"Open In Colab\"/></a>"
      ]
    },
    {
      "cell_type": "markdown",
      "source": [
        "#FUNDAMENTOS DE PROGRMACION MECANICA#\n",
        "##UPB Monteria\n",
        "##Taller 4.ciclos\n",
        "·docente: Miguel ortiz\n"
      ],
      "metadata": {
        "id": "drLSz_UwgOyK"
      }
    },
    {
      "cell_type": "markdown",
      "source": [
        "#datos de estudiante\n",
        "·Nombre:braulio manuel hernandez garcia\n",
        "\n",
        "·ID:000520365\n",
        "\n",
        "·correo:braulio.hernandez@upb.edu.co"
      ],
      "metadata": {
        "id": "4nDomCo_g95k"
      }
    },
    {
      "cell_type": "markdown",
      "source": [],
      "metadata": {
        "id": "P5sRYDazhi81"
      }
    },
    {
      "cell_type": "code",
      "execution_count": null,
      "metadata": {
        "id": "Op4RUu2wgElT"
      },
      "outputs": [],
      "source": []
    },
    {
      "cell_type": "markdown",
      "source": [
        "#problema 1: suma de elementos \n",
        "\n",
        "indique cual delos dos numeros ingresados por el usuario tiene una suma de digitos y la diferencia e las sumas. si las sumas de los digitos son iguales informelo al usuario\n"
      ],
      "metadata": {
        "id": "M4uDENizhxMa"
      }
    },
    {
      "cell_type": "code",
      "source": [
        "numero_1 = input(\"ingrese el primer numero: \")\n",
        "numero_2 = input(\"ingrese el segundo numero: \")\n",
        "\n",
        "lista_1 = [int(x) for x in numero_1]\n",
        "lista_2 = [int(x) for x in numero_2]\n",
        "\n",
        "suma1 = sum(lista_1)\n",
        "suma2 = sum(lista_2)\n",
        "\n",
        "if suma1 == suma2:\n",
        "  print(\"las sumas son iguales:\")\n",
        "else:\n",
        "  diff = abs(suma1 - suma2)\n",
        "  if suma1 > suma2:\n",
        "    print(\"la suma de los elemnetos del primer numero es mayor que la del sugundo numero en\", diff, \"unidades\")\n",
        "  else:\n",
        "    print(\"la suma de los elemnetos del segundo numero es mayor que la del primer numero en\", diff, \"unidades\")\n",
        "    "
      ],
      "metadata": {
        "colab": {
          "base_uri": "https://localhost:8080/"
        },
        "id": "enGCcLWpioTo",
        "outputId": "8dfb91b0-b5c4-48fb-8650-570687a68068"
      },
      "execution_count": 1,
      "outputs": [
        {
          "output_type": "stream",
          "name": "stdout",
          "text": [
            "ingrese el primer numero: 1063277775\n",
            "ingrese el segundo numero: 000520365\n",
            "la suma de los elemnetos del primer numero es mayor que la del sugundo numero en 24 unidades\n"
          ]
        }
      ]
    },
    {
      "cell_type": "markdown",
      "source": [
        "#PROBLEMA 2: SUMA DE OBJETIVO\n",
        "\n",
        "Indique la suma de digitos de un numero de verificacion de objetivos. si obtiene el valor objetivo antes de finalizar el recorrido por todos los digitos del numero, indique la iteracion en la que se obtuvo el valor. tenga en cuenta que tanto el valor objetivo como el numero de verificacion son ingresados por el usuario "
      ],
      "metadata": {
        "id": "su1uS9U2lXYR"
      }
    },
    {
      "cell_type": "code",
      "source": [
        "objetivo = int(input(\"ingrese el numero de suma objetivo: \"))\n",
        "numero = input(\"ingrese numero para validar suma de digitos: \")\n",
        "lista = [int(x) for x in numero]\n",
        "\n",
        "sumatoria = 0\n",
        "\n",
        "for x in range(len(lista)):\n",
        "  sumatoria += lista[x]\n",
        "  if sumatoria >= objetivo:\n",
        "    print(f\"suma obtenida en interaccion {x+1} de {len(lista)}\")\n",
        "    print(f\"resultado obtenido: {sumatoria}.\")\n",
        "    print(\"alzando el valor obtenido:\")\n",
        "    break\n",
        "else:\n",
        "  print(f\"resultado obtenido: {sumatoria}\")\n",
        "  print(\"no alcanzo el valor obtenido\")\n",
        "\n"
      ],
      "metadata": {
        "colab": {
          "base_uri": "https://localhost:8080/"
        },
        "id": "fweiWrOnmh8k",
        "outputId": "30620990-53fb-44b1-eb72-f5ce3a90cfab"
      },
      "execution_count": 2,
      "outputs": [
        {
          "output_type": "stream",
          "name": "stdout",
          "text": [
            "ingrese el numero de suma objetivo: 20\n",
            "ingrese numero para validar suma de digitos: 123456\n",
            "suma obtenida en interaccion 6 de 6\n",
            "resultado obtenido: 21.\n",
            "alzando el valor obtenido:\n"
          ]
        }
      ]
    },
    {
      "cell_type": "markdown",
      "source": [
        "#problema 3: Digito mayor \n",
        "\n",
        "Indique el digito  de mayor valor y su posicion en su numero ingresado por el usuario. En caso de que el digito mayor se repita se debe retornar el indice del primero de ellos que fue encontrado"
      ],
      "metadata": {
        "id": "KUVghAI4o6St"
      }
    },
    {
      "cell_type": "code",
      "source": [
        "numero = input(\"numero:\")\n",
        "lista = [int(x) for x in numero]\n",
        "\n",
        "mayor = lista[0]\n",
        "posicion = 0\n",
        "\n",
        "for x in range(1, len(lista)):\n",
        "  if lista[x] > mayor:\n",
        "    mayor = lista[x]\n",
        "    posicion = x\n",
        "\n",
        "print(\"el digito mayor de la lista es\", mayor )\n",
        "print(\"el numero se encontro en la posicion\", posicion)\n"
      ],
      "metadata": {
        "colab": {
          "base_uri": "https://localhost:8080/"
        },
        "id": "N06xaAOvpxGy",
        "outputId": "ae576151-c100-46f3-a99d-5f99c6f0b0c1"
      },
      "execution_count": 3,
      "outputs": [
        {
          "output_type": "stream",
          "name": "stdout",
          "text": [
            "numero:12365498\n",
            "el digito mayor de la lista es 9\n",
            "el numero se encontro en la posicion 6\n"
          ]
        }
      ]
    },
    {
      "cell_type": "markdown",
      "source": [
        "#problema 4: valores que coinciden \n",
        "\n",
        "indique las posiciones en los cuales se encuentran los mismos valores de los digitos en dos numeros ingresados por el usuario. E l algoritmo debe verificar que los numeros tengan la misma longuitud si ninguno de los digitos de los numeros coinsiden tambien debe informarlo al usuario"
      ],
      "metadata": {
        "id": "wzZERDngrGuI"
      }
    },
    {
      "cell_type": "code",
      "source": [
        "num_1 = input(\"ingrese el primer numero: \")\n",
        "num_2 = input(\"ingrese el segundo numero: \")\n",
        "\n",
        "if len(num_1) != len(num_2):\n",
        "\n",
        "  print(\"los numeros no tienen la misma cantidad de valores\")\n",
        "\n",
        "else:\n",
        "  same_values = []\n",
        "  for i in range(len(num_1)):\n",
        "    \n",
        "      if num_1[i] == num_2[i]:\n",
        "        \n",
        "        same_values.append(i)\n",
        "\n",
        "      if len(same_values) > 0:\n",
        "        dig_common = len(same_values)\n",
        "        print(\"los numeros tinen\", dig_common,\"digitos en comun en las posiciones \",same_values,\".\")\n",
        "\n",
        "      else:\n",
        "        print(\"los numeros carecen de digitos en comun\")\n",
        "\n",
        "  \n",
        "\n",
        "\n",
        "\n",
        "\n",
        "  \n",
        "           \n",
        "\n",
        "    \n",
        "\n"
      ],
      "metadata": {
        "colab": {
          "base_uri": "https://localhost:8080/"
        },
        "id": "X5uAuNfisF7M",
        "outputId": "339fff8c-7e0a-4959-f529-dea471623893"
      },
      "execution_count": 1,
      "outputs": [
        {
          "output_type": "stream",
          "name": "stdout",
          "text": [
            "ingrese el primer numero: 123456\n",
            "ingrese el segundo numero: 123465\n",
            "los numeros tinen 1 digitos en comun en las posiciones  [0] .\n",
            "los numeros tinen 2 digitos en comun en las posiciones  [0, 1] .\n",
            "los numeros tinen 3 digitos en comun en las posiciones  [0, 1, 2] .\n",
            "los numeros tinen 4 digitos en comun en las posiciones  [0, 1, 2, 3] .\n",
            "los numeros tinen 4 digitos en comun en las posiciones  [0, 1, 2, 3] .\n",
            "los numeros tinen 4 digitos en comun en las posiciones  [0, 1, 2, 3] .\n"
          ]
        }
      ]
    }
  ]
}